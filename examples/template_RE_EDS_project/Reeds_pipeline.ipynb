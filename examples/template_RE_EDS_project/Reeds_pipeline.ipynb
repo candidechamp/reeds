{
 "cells": [
  {
   "cell_type": "markdown",
   "metadata": {
    "pycharm": {
     "name": "#%%\n"
    }
   },
   "source": [
    "# Replica Exchange - Enveloping Distribution Sampling \n"
   ]
  },
  {
   "cell_type": "code",
   "execution_count": null,
   "metadata": {},
   "outputs": [],
   "source": [
    "import reeds\n",
    "help(reeds)"
   ]
  },
  {
   "cell_type": "code",
   "execution_count": null,
   "metadata": {},
   "outputs": [],
   "source": [
    "#IMPORTs: \n",
    "import os, glob\n",
    "from IPython.display import HTML, Image,Markdown\n",
    "\n",
    "from pygromos.utils import bash\n",
    "from pygromos.euler_submissions import FileManager as fM"
   ]
  },
  {
   "cell_type": "raw",
   "metadata": {},
   "source": [
    "#adapt standard imd to paper\n",
    "from pygromos.utils import bash\n",
    "from pygromos.files import imd\n",
    "\n",
    "from reeds.gromos_files import imd_templates\n",
    "\n",
    "in_template_reeds_imd = \"/cluster/work/igc/bschroed/REEDS/PNMT/test_PNMT/0_input/template_reeds.imd\"\n",
    "print(imd_templates.reeds_md_path)\n",
    "i = imd.Imd(imd_templates.reeds_md_path)\n",
    "i.NONBONDED.NSLFEXCL=0\n",
    "i.write(in_template_reeds_imd)\n",
    "i.REPLICA_EDS.NTRIALS = 10\n",
    "i.STEP.NSLIM = 10\n",
    "del i\n",
    "\n",
    "\n",
    "in_template_md_imd = \"/cluster/work/igc/bschroed/REEDS/PNMT/test_PNMT/0_input/template_md.imd\"\n",
    "print(imd_templates.eds_md_path)\n",
    "i = imd.Imd(imd_templates.eds_md_path)\n",
    "i.NONBONDED.NSLFEXCL=0\n",
    "i.write(in_template_md_imd)\n",
    "del i"
   ]
  },
  {
   "cell_type": "markdown",
   "metadata": {},
   "source": [
    "# Global Definition"
   ]
  },
  {
   "cell_type": "code",
   "execution_count": null,
   "metadata": {
    "pycharm": {
     "name": "#%%\n"
    }
   },
   "outputs": [],
   "source": [
    "\n",
    "import os\n",
    "from pygromos.utils import bash\n",
    "from pygromos.euler_submissions import FileManager as fM\n",
    "\n",
    "#needs to be provided via gromos compiling\n",
    "gromosXX_bin = \"/cluster/home/bschroed/gromos/gromos_native/gromosXX_mpi/bin\"\n",
    "gromosPP_bin = \"/cluster/home/bschroed/gromos/gromos_native/gromos++/bin\"\n",
    "ene_ana_lib =\"/cluster/home/bschroed/gromos/ene_ana_libs/ene_ana.md.lib\"\n",
    "\n",
    "#System Dependent settings:\n",
    "name = \"MY_NAME\"\n",
    "root_dir = os.getcwd()\n",
    "input_folder =    root_dir+\"/input/\"\n",
    "\n",
    "print(root_dir)\n",
    "\n",
    "\n",
    "##input Files\n",
    "###general Templates\n",
    "in_template_md_imd = root_dir+\"/input/template_md.imd\"\n",
    "in_template_reeds_imd = root_dir+\"/input/template_reeds.imd\"\n",
    "\n",
    "###System dependent Files\n",
    "in_cnf_file =     input_folder+\"/PNMT_9lig_water.cnf\"\n",
    "in_top_file =     input_folder+\"/PNMT_9lig_water.top\"\n",
    "in_pert_file =    input_folder+\"/PNMT_9lig_water.ptp\"\n",
    "in_disres_file =  input_folder+\"/PNMT_9lig_water_disres.dat\"\n",
    "\n"
   ]
  },
  {
   "cell_type": "markdown",
   "metadata": {
    "pycharm": {
     "name": "#%%\n"
    }
   },
   "source": [
    "# Optimize Single EDS-End states"
   ]
  },
  {
   "cell_type": "code",
   "execution_count": null,
   "metadata": {
    "pycharm": {
     "name": "#%%\n"
    }
   },
   "outputs": [],
   "source": [
    "from reeds.modules import do_RE_EDS_generateOptimizedStates as optimizeStates \n",
    "help(optimizeStates)"
   ]
  },
  {
   "cell_type": "code",
   "execution_count": null,
   "metadata": {},
   "outputs": [],
   "source": [
    "#Setup Simulation Step:\n",
    "\n",
    "out_gOptStates_dir = root_dir+\"/a_optimizedState\"\n",
    "in_name = name+\"_optimize_single_state\"\n",
    "\n",
    "out_gOptStates_dir = bash.make_folder(out_gOptStates_dir)\n",
    "\n",
    "\n",
    "topology_state_opt = fM.Topology(top_path=in_top_file, \n",
    "                                 disres_path=in_disres_file, \n",
    "                                 perturbation_path=in_pert_file)\n",
    "\n",
    "system_state_opt = fM.System(coordinates=in_cnf_file, name=in_name, top=topology_state_opt)\n",
    "\n",
    "print(system_state_opt)"
   ]
  },
  {
   "cell_type": "markdown",
   "metadata": {},
   "source": [
    "## Job Execution"
   ]
  },
  {
   "cell_type": "code",
   "execution_count": null,
   "metadata": {
    "pycharm": {
     "name": "#%%\n"
    }
   },
   "outputs": [],
   "source": [
    "optimizeStates.do(in_simSystem=system_state_opt, in_imd_template_path=in_template_md_imd, \n",
    "                  out_root_dir=out_gOptStates_dir, in_gromosXX_bin_dir=gromosXX_bin)"
   ]
  },
  {
   "cell_type": "markdown",
   "metadata": {},
   "source": [
    "## Analysis\n",
    "\n",
    "### Check optimized states"
   ]
  },
  {
   "cell_type": "code",
   "execution_count": null,
   "metadata": {},
   "outputs": [],
   "source": [
    "Image(out_gOptStates_dir+\"/analysis/plots/sampling_minstate_matrix.png\", width=300)"
   ]
  },
  {
   "cell_type": "code",
   "execution_count": null,
   "metadata": {},
   "outputs": [],
   "source": []
  },
  {
   "cell_type": "markdown",
   "metadata": {},
   "source": [
    "# Find lower Bound"
   ]
  },
  {
   "cell_type": "code",
   "execution_count": null,
   "metadata": {
    "pycharm": {
     "name": "#%%\n"
    }
   },
   "outputs": [],
   "source": [
    "from reeds.modules import do_RE_EDS_findLowerBound as findLowerBound\n",
    "help(findLowerBound)"
   ]
  },
  {
   "cell_type": "code",
   "execution_count": null,
   "metadata": {},
   "outputs": [],
   "source": [
    "out_lowerBound_dir = root_dir+\"/b_lowerBound\"\n",
    "in_name = name+\"_find_lower_bound\"\n",
    "\n",
    "out_lowerBound_dir = bash.make_folder(out_lowerBound_dir)\n",
    "\n",
    "\n",
    "topology_lower_bound = fM.Topology(top_path=in_top_file, disres_path=in_disres_file, perturbation_path=in_pert_file)\n",
    "system_lower_bound = fM.System(coordinates=in_cnf_file, name=in_name, top=topology_lower_bound)\n",
    "print(system_lower_bound)"
   ]
  },
  {
   "cell_type": "markdown",
   "metadata": {},
   "source": [
    "## Job Execution"
   ]
  },
  {
   "cell_type": "code",
   "execution_count": null,
   "metadata": {},
   "outputs": [],
   "source": [
    "findLowerBound.do(in_simSystem=system_lower_bound, template_imd=in_template_md_imd, \n",
    "                  out_root_dir=out_lowerBound_dir, \n",
    "                  gromosXX_bin=gromosXX_bin)"
   ]
  },
  {
   "cell_type": "markdown",
   "metadata": {},
   "source": [
    "## Analysis\n",
    "\n",
    "### Verify undersampling"
   ]
  },
  {
   "cell_type": "code",
   "execution_count": null,
   "metadata": {},
   "outputs": [],
   "source": [
    "Image(out_lowerBound_dir+\"/analysis/plots/sampling_undersample_matrix.png\", width=300)"
   ]
  },
  {
   "cell_type": "code",
   "execution_count": null,
   "metadata": {},
   "outputs": [],
   "source": []
  },
  {
   "cell_type": "markdown",
   "metadata": {},
   "source": [
    "# Energy Offset Estimation"
   ]
  },
  {
   "cell_type": "code",
   "execution_count": null,
   "metadata": {
    "pycharm": {
     "name": "#%%\n"
    }
   },
   "outputs": [],
   "source": [
    "from reeds.modules import do_RE_EDS_eoffEstimation as eoffEstm\n",
    "help(eoffEstm)"
   ]
  },
  {
   "cell_type": "code",
   "execution_count": null,
   "metadata": {},
   "outputs": [],
   "source": [
    "out_eoff_dir = root_dir+\"/c_eoff\"\n",
    "next_lowerBound_dir = root_dir+\"/b_lower_bound/analysis/next\"\n",
    "in_name = name+\"_energy_offsets\"\n",
    "\n",
    "\n",
    "out_eoff_dir = bash.make_folder(out_eoff_dir)\n",
    "\n",
    "\n",
    "    \n",
    "topology = fM.Topology(top_path=in_top_file, disres_path=in_disres_file, perturbation_path=in_pert_file)\n",
    "system = fM.System(coordinates=glob.glob(next_lowerBound_dir+\"/*.cnf\"), name=in_name, top=topology)\n"
   ]
  },
  {
   "cell_type": "markdown",
   "metadata": {},
   "source": [
    "## Job Execution"
   ]
  },
  {
   "cell_type": "code",
   "execution_count": null,
   "metadata": {},
   "outputs": [],
   "source": [
    "last_jobID = eoffEstm.do(out_root_dir=out_eoff_dir, in_simSystem=system, \n",
    "                         in_template_imd_path=in_template_reeds_imd, \n",
    "                         in_ene_ana_lib=ene_ana_lib)\n",
    "\n",
    "last_jobID"
   ]
  },
  {
   "cell_type": "markdown",
   "metadata": {},
   "source": [
    "## Analysis\n",
    "\n",
    "### Potential energies of the states"
   ]
  },
  {
   "cell_type": "code",
   "execution_count": null,
   "metadata": {},
   "outputs": [],
   "source": [
    "Image(out_eoff_dir+\"/analysis/plots/edsState_potential_timeseries_stageGrid_s15.png\", width=600)"
   ]
  },
  {
   "cell_type": "markdown",
   "metadata": {},
   "source": [
    "### Check undersampling of the replicas"
   ]
  },
  {
   "cell_type": "code",
   "execution_count": null,
   "metadata": {},
   "outputs": [],
   "source": [
    "Image(out_eoff_dir+\"/analysis/plots/sampling_undersample_matrix.png\", width=300)"
   ]
  },
  {
   "cell_type": "markdown",
   "metadata": {},
   "source": [
    "### Energy offset Estimation"
   ]
  },
  {
   "cell_type": "code",
   "execution_count": null,
   "metadata": {},
   "outputs": [],
   "source": [
    "Markdown(out_eoff_dir+\"/analysis/Eoff_estimate.out\")"
   ]
  },
  {
   "cell_type": "markdown",
   "metadata": {},
   "source": []
  },
  {
   "cell_type": "code",
   "execution_count": null,
   "metadata": {},
   "outputs": [],
   "source": [
    "Image(out_eoff_dir+\"/analysis/plots/PNMT_9ligs_water_energy_offsets_eoff_s.png\", width=600)"
   ]
  },
  {
   "cell_type": "markdown",
   "metadata": {},
   "source": [
    "### Bottle neck"
   ]
  },
  {
   "cell_type": "code",
   "execution_count": null,
   "metadata": {},
   "outputs": [],
   "source": [
    "Image(out_eoff_dir+\"/analysis/plots/transitions.png\", width=600)"
   ]
  },
  {
   "cell_type": "markdown",
   "metadata": {},
   "source": []
  },
  {
   "cell_type": "markdown",
   "metadata": {
    "pycharm": {
     "name": "#%%\n"
    }
   },
   "source": [
    "# s-Optimization"
   ]
  },
  {
   "cell_type": "code",
   "execution_count": null,
   "metadata": {
    "pycharm": {
     "name": "#%%\n"
    }
   },
   "outputs": [],
   "source": [
    "from reeds.modules import do_RE_EDS_sOptimisation as sOptimization\n",
    "help(sOptimization)"
   ]
  },
  {
   "cell_type": "code",
   "execution_count": null,
   "metadata": {},
   "outputs": [],
   "source": [
    "out_sopt_dir = root_dir+\"/d_sopt\"\n",
    "next_sopt_dir = root_dir+\"/c_eoff/analysis/next\"\n",
    "name = \"PNMT_9ligs_water_sopt\"\n",
    "\n",
    "soptIterations =4\n",
    "\n",
    "in_template_reeds_imd = glob.glob(next_sopt_dir+\"/*imd\")[0]\n",
    "\n",
    "out_sopt_dir = bash.make_folder(out_sopt_dir)\n",
    "\n",
    "        \n",
    "topology = fM.Topology(top_path=in_top_file, disres_path=in_disres_file, perturbation_path=in_pert_file)\n",
    "system_sopt = fM.System(coordinates=glob.glob(next_sopt_dir+\"/*cnf\"), name=name, top=topology)\n",
    "print(system)"
   ]
  },
  {
   "cell_type": "markdown",
   "metadata": {},
   "source": [
    "## Job Execution"
   ]
  },
  {
   "cell_type": "code",
   "execution_count": null,
   "metadata": {
    "pycharm": {
     "name": "#%%\n"
    }
   },
   "outputs": [],
   "source": [
    "last_jobID = sOptimization.do(out_root_dir=out_sopt_dir, in_simSystem=system, \n",
    "                              in_template_imd=in_template_reeds_imd, \n",
    "                              in_ene_ana_lib_path=ene_ana_lib, \n",
    "                              soptIterations=soptIterations)\n"
   ]
  },
  {
   "cell_type": "markdown",
   "metadata": {},
   "source": [
    "## Analysis\n",
    "\n",
    "### Increase Replica Exchanges with N-LRTO\n",
    "#### sopt1"
   ]
  },
  {
   "cell_type": "code",
   "execution_count": null,
   "metadata": {},
   "outputs": [],
   "source": [
    "Image(out_sopt_dir+\"/sopt1/analysis/plots/transitions.png\", width=600)"
   ]
  },
  {
   "cell_type": "code",
   "execution_count": null,
   "metadata": {},
   "outputs": [],
   "source": [
    "Markdown(out_sopt_dir+\"/sopt1/analysis/s_opt_NLRTO.out\")"
   ]
  },
  {
   "cell_type": "markdown",
   "metadata": {},
   "source": [
    "#### sopt2"
   ]
  },
  {
   "cell_type": "code",
   "execution_count": null,
   "metadata": {},
   "outputs": [],
   "source": [
    "Image(out_sopt_dir+\"/sopt2/analysis/plots/transitions.png\", width=600)"
   ]
  },
  {
   "cell_type": "code",
   "execution_count": null,
   "metadata": {},
   "outputs": [],
   "source": [
    "Markdown(out_sopt_dir+\"/sopt2/analysis/s_opt_NLRTO.out\")"
   ]
  },
  {
   "cell_type": "markdown",
   "metadata": {},
   "source": [
    "#### sopt3 "
   ]
  },
  {
   "cell_type": "code",
   "execution_count": null,
   "metadata": {},
   "outputs": [],
   "source": [
    "Image(out_sopt_dir+\"/sopt3/analysis/plots/transitions.png\", width=600)"
   ]
  },
  {
   "cell_type": "code",
   "execution_count": null,
   "metadata": {},
   "outputs": [],
   "source": [
    "Markdown(out_sopt_dir+\"/sopt3/analysis/s_opt_NLRTO.out\")"
   ]
  },
  {
   "cell_type": "markdown",
   "metadata": {},
   "source": [
    "#### sopt4"
   ]
  },
  {
   "cell_type": "code",
   "execution_count": null,
   "metadata": {},
   "outputs": [],
   "source": [
    "Image(out_sopt_dir+\"/sopt4/analysis/plots/transitions.png\", width=600)"
   ]
  },
  {
   "cell_type": "markdown",
   "metadata": {},
   "source": [
    "### Check state switches in the replicas:"
   ]
  },
  {
   "cell_type": "code",
   "execution_count": null,
   "metadata": {},
   "outputs": [],
   "source": [
    "Image(out_sopt_dir+\"/sopt4/analysis/plots/transitions_trace_19.png\", width=600)"
   ]
  },
  {
   "cell_type": "code",
   "execution_count": null,
   "metadata": {},
   "outputs": [],
   "source": [
    "Image(out_sopt_dir+\"/sopt4/analysis/plots/transitions_trace_14.png\", width=600)"
   ]
  },
  {
   "cell_type": "markdown",
   "metadata": {},
   "source": [
    "# Production Run"
   ]
  },
  {
   "cell_type": "code",
   "execution_count": null,
   "metadata": {
    "pycharm": {
     "name": "#%%\n"
    }
   },
   "outputs": [],
   "source": [
    "from reeds.modules import do_RE_EDS_production as production\n",
    "help(production)"
   ]
  },
  {
   "cell_type": "code",
   "execution_count": null,
   "metadata": {
    "pycharm": {
     "name": "#%%\n"
    }
   },
   "outputs": [],
   "source": [
    "out_production_dir = root_dir+\"/test_e_production\"\n",
    "next_production_dir = root_dir+\"/0_input/3_next_prod\"\n",
    "\n",
    "name = \"PNMT_9ligs_water_prod\"\n",
    "\n",
    "    \n",
    "out_production_dir = bash.make_folder(out_production_dir)\n",
    "\n",
    "\n",
    "production_imd = glob.glob(next_production_dir+\"/*imd\")[0]    \n",
    "topology = fM.Topology(top_path=in_top_file, disres_path=in_disres_file, perturbation_path=in_pert_file)\n",
    "system = fM.System(coordinates=glob.glob(next_production_dir+\"/*cnf\"), name=name, top=topology)\n",
    "\n",
    "print(system)"
   ]
  },
  {
   "cell_type": "markdown",
   "metadata": {},
   "source": [
    "## Job Execution"
   ]
  },
  {
   "cell_type": "code",
   "execution_count": null,
   "metadata": {
    "pycharm": {
     "name": "#%%\n"
    }
   },
   "outputs": [],
   "source": [
    "last_jobID = production.do(out_root_dir=out_production_dir, \n",
    "                           in_simSystem=system, in_template_imd=production_imd, \n",
    "                           in_ene_ana_lib_path=ene_ana_lib, verbose=True)"
   ]
  },
  {
   "cell_type": "markdown",
   "metadata": {},
   "source": [
    "## Analysis\n",
    "\n",
    "\n",
    "### Check State Sampling"
   ]
  },
  {
   "cell_type": "code",
   "execution_count": null,
   "metadata": {},
   "outputs": [],
   "source": [
    "Image(out_production_dir+\"/analysis/plots/sampling1.png\", width=600)"
   ]
  },
  {
   "cell_type": "markdown",
   "metadata": {},
   "source": []
  },
  {
   "cell_type": "code",
   "execution_count": null,
   "metadata": {},
   "outputs": [],
   "source": [
    "Image(out_production_dir+\"/analysis/plots/sampling1.png\", width=600)"
   ]
  },
  {
   "cell_type": "markdown",
   "metadata": {},
   "source": [
    "### Calculation of Free Energies"
   ]
  },
  {
   "cell_type": "code",
   "execution_count": null,
   "metadata": {},
   "outputs": [],
   "source": []
  },
  {
   "cell_type": "code",
   "execution_count": null,
   "metadata": {},
   "outputs": [],
   "source": [
    "Markdown(out_production_dir+\"/analysis/convergence/free_energy_result.dat\")"
   ]
  },
  {
   "cell_type": "code",
   "execution_count": null,
   "metadata": {},
   "outputs": [],
   "source": [
    "Image(out_production_dir+\"/analysis/convergence/PNMT_9ligs_water_prod_replica_1.png\", width=600)"
   ]
  },
  {
   "cell_type": "code",
   "execution_count": null,
   "metadata": {},
   "outputs": [],
   "source": [
    "display."
   ]
  }
 ],
 "metadata": {
  "kernelspec": {
   "display_name": "cyclic_pCNN",
   "language": "python",
   "name": "cyclic_pdev"
  },
  "language_info": {
   "codemirror_mode": {
    "name": "ipython",
    "version": 3
   },
   "file_extension": ".py",
   "mimetype": "text/x-python",
   "name": "python",
   "nbconvert_exporter": "python",
   "pygments_lexer": "ipython3",
   "version": "3.7.3"
  }
 },
 "nbformat": 4,
 "nbformat_minor": 4
}
