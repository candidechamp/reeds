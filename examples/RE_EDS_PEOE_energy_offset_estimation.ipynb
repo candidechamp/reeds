{
 "cells": [
  {
   "cell_type": "markdown",
   "metadata": {},
   "source": [
    "# RE-EDS - PEOE - Energy Offset Estimation\n"
   ]
  },
  {
   "cell_type": "code",
   "execution_count": 7,
   "metadata": {},
   "outputs": [],
   "source": [
    "#Imports\n",
    "import sys, os\n",
    "sys.path.append(os.path.dirname(os.getcwd()))\n",
    "\n",
    "import numpy as np\n",
    "\n",
    "from matplotlib import pyplot as plt\n",
    "%matplotlib inline\n",
    "\n",
    "import reeds\n",
    "from pygromos.files import repdat, imd\n",
    "from reeds.function_libs.analysis import visualisation as vis\n",
    "from reeds.function_libs.analysis import analysis, file_management\n",
    "\n",
    "\n",
    "vis.figsize = [16,9]\n",
    "\n"
   ]
  },
  {
   "cell_type": "markdown",
   "metadata": {},
   "source": [
    "## Parse Data"
   ]
  },
  {
   "cell_type": "code",
   "execution_count": 9,
   "metadata": {},
   "outputs": [],
   "source": [
    "#Define data path:\n",
    "in_imd_path = \"/cluster/work/igc/bschroed/REEDS/CHK1/complex_d5/c_eoff/input/repex_eoff.imd\"\n",
    "\n",
    "data_dir = \"/cluster/work/igc/bschroed/REEDS/CHK1/complex_d5/c_eoff/analysis/data\"\n",
    "out_prefix = \"CHK1_disres5_complex_eoff_energies\""
   ]
  },
  {
   "cell_type": "code",
   "execution_count": 13,
   "metadata": {},
   "outputs": [],
   "source": [
    "#parse\n",
    "energy_trajectories = file_management.parse_csv_energy_trajectories(data_dir, out_prefix)\n",
    "imd_file = imd.Imd(in_imd_path)"
   ]
  },
  {
   "cell_type": "markdown",
   "metadata": {},
   "source": [
    "## Estimate Offsets"
   ]
  },
  {
   "cell_type": "code",
   "execution_count": 24,
   "metadata": {},
   "outputs": [
    {
     "name": "stdout",
     "output_type": "stream",
     "text": [
      "converged after 1 steps\n",
      "converged after 1 steps\n",
      "converged after 1 steps\n",
      "converged after 1 steps\n",
      "converged after 1 steps\n",
      "converged after 1 steps\n",
      "converged after 1 steps\n",
      "converged after 1 steps\n",
      "converged after 1 steps\n",
      "converged after 1 steps\n",
      "converged after 1 steps\n",
      "converged after 1 steps\n",
      "converged after 1 steps\n",
      "converged after 1 steps\n",
      "converged after 1 steps\n",
      "converged after 1 steps\n",
      "converged after 1 steps\n",
      "converged after 1 steps\n",
      "converged after 1 steps\n",
      "converged after 1 steps\n",
      "converged after 1 steps\n",
      "\n",
      "\n",
      "REEDS - Eoff Estimation:\n",
      "========================\n",
      "\n",
      "\n",
      "\n",
      "\tEnergy Offsets for each Replica\n",
      "\n",
      "| S\t| e1 | e2 | e3 | e4 | e5 | iterations |\n",
      "|---\t|--- |---  |---  |---  |--- |--- |\n",
      "|1.0000\t|0.0 |\t7.2231 |\t123.794 |\t-95.6342 |\t-209.2493 \t|\t1|\n",
      "|0.7500\t|0.0 |\t7.2231 |\t116.9158 |\t-101.6541 |\t-209.2493 \t|\t1|\n",
      "|0.5620\t|0.0 |\t7.2215 |\t59.011 |\t-120.676 |\t-209.2493 \t|\t1|\n",
      "|0.4220\t|0.0 |\t7.2219 |\t59.0114 |\t-120.6756 |\t-209.2489 \t|\t1|\n",
      "|0.3160\t|0.0 |\t6.8981 |\t56.6969 |\t-118.8075 |\t-209.2485 \t|\t1|\n",
      "|0.2370\t|0.0 |\t6.894 |\t56.6928 |\t-118.7958 |\t-209.2526 \t|\t1|\n",
      "|0.1780\t|0.0 |\t6.5972 |\t55.6198 |\t-123.1055 |\t-209.2324 \t|\t1|\n",
      "|0.1330\t|0.0 |\t7.5328 |\t56.5548 |\t-123.2553 |\t-208.2972 \t|\t1|\n",
      "|0.1000\t|0.0 |\t6.5729 |\t-3.8203 |\t-175.1889 |\t-208.0399 \t|\t1|\n",
      "|0.0750\t|0.0 |\t52.1492 |\t46.4659 |\t-124.9322 |\t-162.4993 \t|\t1|\n",
      "|0.0562\t|0.0 |\t33.6502 |\t41.8299 |\t-142.1719 |\t-170.8979 \t|\t1|\n",
      "|0.0422\t|0.0 |\t36.5574 |\t-0.1896 |\t-110.416 |\t-143.5478 \t|\t1|\n",
      "|0.0316\t|0.0 |\t47.2498 |\t7.0766 |\t-74.5805 |\t-118.5838 \t|\t1|\n",
      "|0.0237\t|0.0 |\t23.8096 |\t3.8686 |\t-74.567 |\t-110.2735 \t|\t1|\n",
      "|0.0178\t|0.0 |\t-6.6166 |\t-7.3168 |\t-54.7246 |\t-101.7631 \t|\t1|\n",
      "|0.0133\t|0.0 |\t-12.5898 |\t-3.294 |\t-48.7105 |\t-75.7651 \t|\t1|\n",
      "|0.0100\t|0.0 |\t-7.1602 |\t-3.1836 |\t-51.7028 |\t-66.5458 \t|\t1|\n",
      "|0.0075\t|0.0 |\t-1.3655 |\t-2.9095 |\t-48.7238 |\t-66.4973 \t|\t1|\n",
      "|0.0056\t|0.0 |\t-0.8743 |\t-1.9586 |\t-49.2801 |\t-62.4862 \t|\t1|\n",
      "|0.0042\t|0.0 |\t1.5589 |\t-2.0664 |\t-48.1106 |\t-62.2341 \t|\t1|\n",
      "|0.0032\t|0.0 |\t2.2132 |\t-1.3666 |\t-47.9877 |\t-61.5577 \t|\t1|\n",
      "\n",
      "\n",
      "\tMinimum energy count per state\n",
      "| S\t| e1 | e2 | e3 | e4 | e5 |\n",
      "|---\t|--- |---  |---  |---  |--- |\n",
      "| 1.0000\t|        0 |\t        0 |\t        0 |\t        0 |\t    50000 |\n",
      "| 0.7500\t|        0 |\t        0 |\t        0 |\t        0 |\t    50000 |\n",
      "| 0.5620\t|        0 |\t        0 |\t        0 |\t        0 |\t    50000 |\n",
      "| 0.4220\t|        0 |\t        0 |\t        0 |\t        0 |\t    50000 |\n",
      "| 0.3160\t|        0 |\t        0 |\t        0 |\t        0 |\t    50000 |\n",
      "| 0.2370\t|        0 |\t        0 |\t        0 |\t        0 |\t    50000 |\n",
      "| 0.1780\t|        0 |\t        0 |\t        0 |\t        0 |\t    50000 |\n",
      "| 0.1330\t|        0 |\t        0 |\t        0 |\t        0 |\t    50000 |\n",
      "| 0.1000\t|        0 |\t        0 |\t        0 |\t        2 |\t    49998 |\n",
      "| 0.0750\t|        0 |\t        0 |\t        0 |\t        4 |\t    49996 |\n",
      "| 0.0562\t|        0 |\t        0 |\t        0 |\t       32 |\t    49968 |\n",
      "| 0.0422\t|        0 |\t        0 |\t        0 |\t      231 |\t    49769 |\n",
      "| 0.0316\t|        0 |\t        0 |\t        0 |\t     1182 |\t    48818 |\n",
      "| 0.0237\t|        5 |\t        0 |\t        7 |\t     1972 |\t    48016 |\n",
      "| 0.0178\t|      160 |\t       21 |\t      333 |\t    11749 |\t    37737 |\n",
      "| 0.0133\t|      235 |\t       31 |\t      498 |\t    13948 |\t    35288 |\n",
      "| 0.0100\t|      263 |\t       39 |\t      581 |\t    14753 |\t    34364 |\n",
      "| 0.0075\t|      301 |\t       48 |\t      641 |\t    15255 |\t    33755 |\n",
      "| 0.0056\t|      323 |\t       50 |\t      703 |\t    15572 |\t    33352 |\n",
      "| 0.0042\t|      340 |\t       50 |\t      733 |\t    15746 |\t    33131 |\n",
      "| 0.0032\t|      345 |\t       51 |\t      744 |\t    15799 |\t    33061 |\n",
      "\n",
      "\tNegative energy count per state(pottresh=0)\n",
      "\n",
      "| S\t| e1 | e2 | e3 | e4 | e5|\n",
      "|---\t|--- |---  |---  |---  |--- |\n",
      "1.0000\t|     4074 |\t     1829 |\t     1116 |\t    10607 |\t    50000 |\n",
      "0.7500\t|     4092 |\t     1833 |\t     1122 |\t    10818 |\t    50000 |\n",
      "0.5620\t|     4092 |\t     1833 |\t     1133 |\t    11048 |\t    50000 |\n",
      "0.4220\t|     4103 |\t     1837 |\t     1157 |\t    11346 |\t    50000 |\n",
      "0.3160\t|     4132 |\t     1849 |\t     1180 |\t    11697 |\t    50000 |\n",
      "0.2370\t|     4182 |\t     1871 |\t     1204 |\t    12087 |\t    50000 |\n",
      "0.1780\t|     4208 |\t     1898 |\t     1230 |\t    12492 |\t    50000 |\n",
      "0.1330\t|     4255 |\t     1935 |\t     1262 |\t    12939 |\t    50000 |\n",
      "0.1000\t|     4296 |\t     1976 |\t     1319 |\t    13473 |\t    50000 |\n",
      "0.0750\t|     4336 |\t     2013 |\t     1363 |\t    14046 |\t    50000 |\n",
      "0.0562\t|     4488 |\t     2106 |\t     1484 |\t    15035 |\t    50000 |\n",
      "0.0422\t|     5295 |\t     2496 |\t     1958 |\t    19102 |\t    50000 |\n",
      "0.0316\t|     9816 |\t     4903 |\t     4452 |\t    41392 |\t    50000 |\n",
      "0.0237\t|    16173 |\t     8932 |\t     7519 |\t    50000 |\t    50000 |\n",
      "0.0178\t|    49655 |\t    48707 |\t    46518 |\t    50000 |\t    50000 |\n",
      "0.0133\t|    49999 |\t    49997 |\t    49977 |\t    50000 |\t    50000 |\n",
      "0.0100\t|    50000 |\t    50000 |\t    50000 |\t    50000 |\t    50000 |\n",
      "0.0075\t|    50000 |\t    50000 |\t    50000 |\t    50000 |\t    50000 |\n",
      "0.0056\t|    50000 |\t    50000 |\t    50000 |\t    50000 |\t    50000 |\n",
      "0.0042\t|    50000 |\t    50000 |\t    50000 |\t    50000 |\t    50000 |\n",
      "0.0032\t|    50000 |\t    50000 |\t    50000 |\t    50000 |\t    50000 |\n",
      "\n",
      "\tFraction of undersampling energies per state (fractresh=[0.9])\n",
      "\n",
      "| S\t| e1 | e2 | e3 | e4 | e5 |\n",
      "|---\t\t|---\t |---  |---  |---  |---  |\n",
      "| 1.0000\t|   0.0815 |\t   0.0366 |\t   0.0223 |\t   0.2121 |\t   1.0000\n",
      "| 0.7500\t|   0.0818 |\t   0.0367 |\t   0.0224 |\t   0.2164 |\t   1.0000\n",
      "| 0.5620\t|   0.0818 |\t   0.0367 |\t   0.0227 |\t   0.2210 |\t   1.0000\n",
      "| 0.4220\t|   0.0821 |\t   0.0367 |\t   0.0231 |\t   0.2269 |\t   1.0000\n",
      "| 0.3160\t|   0.0826 |\t   0.0370 |\t   0.0236 |\t   0.2339 |\t   1.0000\n",
      "| 0.2370\t|   0.0836 |\t   0.0374 |\t   0.0241 |\t   0.2417 |\t   1.0000\n",
      "| 0.1780\t|   0.0842 |\t   0.0380 |\t   0.0246 |\t   0.2498 |\t   1.0000\n",
      "| 0.1330\t|   0.0851 |\t   0.0387 |\t   0.0252 |\t   0.2588 |\t   1.0000\n",
      "| 0.1000\t|   0.0859 |\t   0.0395 |\t   0.0264 |\t   0.2695 |\t   1.0000\n",
      "| 0.0750\t|   0.0867 |\t   0.0403 |\t   0.0273 |\t   0.2809 |\t   1.0000\n",
      "| 0.0562\t|   0.0898 |\t   0.0421 |\t   0.0297 |\t   0.3007 |\t   1.0000\n",
      "| 0.0422\t|   0.1059 |\t   0.0499 |\t   0.0392 |\t   0.3820 |\t   1.0000\n",
      "| 0.0316\t|   0.1963 |\t   0.0981 |\t   0.0890 |\t   0.8278 |\t   1.0000\n",
      "| 0.0237\t|   0.3235 |\t   0.1786 |\t   0.1504 |\t   1.0000 |\t   1.0000\n",
      "| 0.0178\t|   0.9931 |\t   0.9741 |\t   0.9304 |\t   1.0000 |\t   1.0000\n",
      "| 0.0133\t|   1.0000 |\t   0.9999 |\t   0.9995 |\t   1.0000 |\t   1.0000\n",
      "| 0.0100\t|   1.0000 |\t   1.0000 |\t   1.0000 |\t   1.0000 |\t   1.0000\n",
      "| 0.0075\t|   1.0000 |\t   1.0000 |\t   1.0000 |\t   1.0000 |\t   1.0000\n",
      "| 0.0056\t|   1.0000 |\t   1.0000 |\t   1.0000 |\t   1.0000 |\t   1.0000\n",
      "| 0.0042\t|   1.0000 |\t   1.0000 |\t   1.0000 |\t   1.0000 |\t   1.0000\n",
      "| 0.0032\t|   1.0000 |\t   1.0000 |\t   1.0000 |\t   1.0000 |\t   1.0000\n",
      "\n",
      "\n",
      "New energy offset for each state:\n",
      "\n",
      "1.     0.0000\t+-\t  0.0000\n",
      "2.    -3.5478\t+-\t  5.0058\n",
      "3.    -3.1565\t+-\t  1.8211\n",
      "4.   -49.8914\t+-\t  2.2856\n",
      "5.   -70.9785\t+-\t 13.3506\n",
      "\n"
     ]
    },
    {
     "ename": "TypeError",
     "evalue": "unsupported operand type(s) for -: 'list' and 'float'",
     "output_type": "error",
     "traceback": [
      "\u001B[0;31m---------------------------------------------------------------------------\u001B[0m",
      "\u001B[0;31mTypeError\u001B[0m                                 Traceback (most recent call last)",
      "\u001B[0;32m<ipython-input-24-698ea995ffb1>\u001B[0m in \u001B[0;36m<module>\u001B[0;34m\u001B[0m\n\u001B[1;32m      8\u001B[0m                                         \u001B[0mEoff\u001B[0m\u001B[0;34m=\u001B[0m\u001B[0minitial_Eoff_guess\u001B[0m\u001B[0;34m,\u001B[0m \u001B[0ms_values\u001B[0m\u001B[0;34m=\u001B[0m\u001B[0ms_values\u001B[0m\u001B[0;34m,\u001B[0m\u001B[0;34m\u001B[0m\u001B[0;34m\u001B[0m\u001B[0m\n\u001B[1;32m      9\u001B[0m                                         \u001B[0mpot_tresh\u001B[0m\u001B[0;34m=\u001B[0m\u001B[0mpot_tresh\u001B[0m\u001B[0;34m,\u001B[0m \u001B[0mfrac_tresh\u001B[0m\u001B[0;34m=\u001B[0m\u001B[0mfrac_tresh\u001B[0m\u001B[0;34m,\u001B[0m\u001B[0;34m\u001B[0m\u001B[0;34m\u001B[0m\u001B[0m\n\u001B[0;32m---> 10\u001B[0;31m                                        out_path=\".\")\n\u001B[0m",
      "\u001B[0;32m~/code/reeds/reeds/function_libs/analysis/analysis.py\u001B[0m in \u001B[0;36mestimate_Eoff\u001B[0;34m(ene_ana_trajs, Eoff, s_values, out_path, temp, kb, pot_tresh, frac_tresh, convergence_radius, max_iter, take_last_n, plot_title_prefix, visualize)\u001B[0m\n\u001B[1;32m    416\u001B[0m         \u001B[0;31m# plott mean eoffs vs. sf\u001B[0m\u001B[0;34m\u001B[0m\u001B[0;34m\u001B[0m\u001B[0;34m\u001B[0m\u001B[0m\n\u001B[1;32m    417\u001B[0m         vis.plot_peoe_eoff_vs_s(eoff_per_replica, energy_offsets,  title=plot_title_prefix + \" - Eoff/s\",\n\u001B[0;32m--> 418\u001B[0;31m                                 out_path=out_path + \"/\" + plot_title_prefix + \"_eoffs_vs_s.png\")\n\u001B[0m\u001B[1;32m    419\u001B[0m     \u001B[0;32mreturn\u001B[0m \u001B[0mstatistic\u001B[0m\u001B[0;34m\u001B[0m\u001B[0;34m\u001B[0m\u001B[0m\n\u001B[1;32m    420\u001B[0m \u001B[0;34m\u001B[0m\u001B[0m\n",
      "\u001B[0;32m~/code/reeds/reeds/function_libs/analysis/visualisation.py\u001B[0m in \u001B[0;36mplot_peoe_eoff_vs_s\u001B[0;34m(eoff, energy_offsets, title, out_path)\u001B[0m\n\u001B[1;32m    692\u001B[0m     \u001B[0;31m##plot1\u001B[0m\u001B[0;34m\u001B[0m\u001B[0;34m\u001B[0m\u001B[0;34m\u001B[0m\u001B[0m\n\u001B[1;32m    693\u001B[0m     \u001B[0;32mfor\u001B[0m \u001B[0mi\u001B[0m \u001B[0;32min\u001B[0m \u001B[0mrange\u001B[0m\u001B[0;34m(\u001B[0m\u001B[0mnum_stats\u001B[0m\u001B[0;34m)\u001B[0m\u001B[0;34m:\u001B[0m\u001B[0;34m\u001B[0m\u001B[0;34m\u001B[0m\u001B[0m\n\u001B[0;32m--> 694\u001B[0;31m         ax1.plot(x, y[i] - energy_offsets[i].mean, label=(i + 1),  # color=colors[i % repnum],\n\u001B[0m\u001B[1;32m    695\u001B[0m                  lw=2)\n\u001B[1;32m    696\u001B[0m \u001B[0;34m\u001B[0m\u001B[0m\n",
      "\u001B[0;31mTypeError\u001B[0m: unsupported operand type(s) for -: 'list' and 'float'"
     ]
    },
    {
     "data": {
      "image/png": "[encoded data removed]",
      "text/plain": [
       "<Figure size 432x288 with 2 Axes>"
      ]
     },
     "metadata": {
      "needs_background": "light"
     },
     "output_type": "display_data"
    }
   ],
   "source": [
    "initial_Eoff_guess = [0 for x in range(int(imd_file.REPLICA_EDS.NUMSTATES))]\n",
    "s_values = list(map(float, imd_file.REPLICA_EDS.RES))\n",
    "out_path = []\n",
    "pot_tresh= 0\n",
    "frac_tresh = [0.9]\n",
    "\n",
    "eoff_statistic = analysis.estimate_Eoff(ene_ana_trajs=energy_trajectories, \n",
    "                                        Eoff=initial_Eoff_guess, s_values=s_values,\n",
    "                                        pot_tresh=pot_tresh, frac_tresh=frac_tresh,\n",
    "                                       out_path=\".\")"
   ]
  },
  {
   "cell_type": "markdown",
   "metadata": {},
   "source": [
    "## Visualize Results"
   ]
  },
  {
   "cell_type": "code",
   "execution_count": 23,
   "metadata": {},
   "outputs": [
    {
     "ename": "NameError",
     "evalue": "name 'eoff_statistic' is not defined",
     "output_type": "error",
     "traceback": [
      "\u001B[0;31m---------------------------------------------------------------------------\u001B[0m",
      "\u001B[0;31mNameError\u001B[0m                                 Traceback (most recent call last)",
      "\u001B[0;32m<ipython-input-23-f558ba3c003c>\u001B[0m in \u001B[0;36m<module>\u001B[0;34m\u001B[0m\n\u001B[0;32m----> 1\u001B[0;31m \u001B[0meoff_statistic\u001B[0m\u001B[0;34m\u001B[0m\u001B[0;34m\u001B[0m\u001B[0m\n\u001B[0m",
      "\u001B[0;31mNameError\u001B[0m: name 'eoff_statistic' is not defined"
     ]
    }
   ],
   "source": [
    "eoff_statistic"
   ]
  },
  {
   "cell_type": "code",
   "execution_count": null,
   "metadata": {},
   "outputs": [],
   "source": []
  }
 ],
 "metadata": {
  "kernelspec": {
   "display_name": "CyclicPeptides",
   "language": "python",
   "name": "python3"
  },
  "language_info": {
   "codemirror_mode": {
    "name": "ipython",
    "version": 3
   },
   "file_extension": ".py",
   "mimetype": "text/x-python",
   "name": "python",
   "nbconvert_exporter": "python",
   "pygments_lexer": "ipython3",
   "version": "3.6.7"
  }
 },
 "nbformat": 4,
 "nbformat_minor": 1
}